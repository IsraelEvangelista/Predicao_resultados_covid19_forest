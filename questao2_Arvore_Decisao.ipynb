{
 "cells": [
  {
   "cell_type": "code",
   "execution_count": 6,
   "metadata": {},
   "outputs": [],
   "source": [
    "import psycopg2\n",
    "conn = psycopg2.connect(host=\"localhost\", database=\"covid19\", user=\"postgres\", password=\"lgribeiro\")"
   ]
  },
  {
   "cell_type": "code",
   "execution_count": 7,
   "metadata": {},
   "outputs": [],
   "source": [
    "cur = conn.cursor()\n",
    "\n",
    "sql = \"SELECT COUNT(P.IC_SEXO) FILTER (where UPPER(P.IC_SEXO) = 'F') as FEMALE,\tCOUNT(P.IC_SEXO) FILTER (where UPPER(P.IC_SEXO) = 'M') as MALE, \tFLOOR((date_part('year', CURRENT_DATE)-P.AA_NASCIMENTO::INTEGER)/10) || '0s' as DECADA FROM PACIENTE P WHERE P.AA_NASCIMENTO SIMILAR TO '%(0|9)%' GROUP BY DECADA;\" \n"
   ]
  },
  {
   "cell_type": "code",
   "execution_count": 8,
   "metadata": {},
   "outputs": [
    {
     "name": "stdout",
     "output_type": "stream",
     "text": [
      "(3915, 4316, '00s')\n",
      "(5505, 5428, '10s')\n",
      "(30366, 25824, '20s')\n",
      "(53306, 42775, '30s')\n",
      "(39142, 33398, '40s')\n",
      "(22043, 20798, '50s')\n",
      "(13475, 11151, '60s')\n",
      "(6667, 5793, '70s')\n",
      "(3720, 2164, '80s')\n"
     ]
    }
   ],
   "source": [
    "cur.execute(sql)\n",
    "\n",
    "rows = cur.fetchall()\n",
    "    \n",
    "for row in rows:\n",
    "    print(row)"
   ]
  },
  {
   "cell_type": "code",
   "execution_count": 9,
   "metadata": {},
   "outputs": [],
   "source": [
    "sql1 = \"with ages as (select min(date_part('year', CURRENT_DATE)- P.AA_NASCIMENTO::int)::int as min_age, max(date_part('year', CURRENT_DATE)- P.AA_NASCIMENTO::int)::int as max_age from PACIENTE P WHERE P.AA_NASCIMENTO SIMILAR TO '%(0|9)%' ), histogram as ( select width_bucket((date_part('year', CURRENT_DATE)- P.AA_NASCIMENTO::int), min_age, max_age, 9) as bucket, int4range(min(date_part('year', CURRENT_DATE)- P.AA_NASCIMENTO::int)::int, max(date_part('year', CURRENT_DATE)- P.AA_NASCIMENTO::int)::int, '[]') as range, COUNT(P.IC_SEXO) FILTER (where UPPER(P.IC_SEXO) = 'F') as FEMALE, COUNT(P.IC_SEXO) FILTER (where UPPER(P.IC_SEXO) = 'M') as MALE from paciente P, ages WHERE P.AA_NASCIMENTO SIMILAR TO '%(0|9)%' group by bucket order by bucket ) select bucket, range, FEMALE, MALE from histogram;\"    \n",
    "\n"
   ]
  },
  {
   "cell_type": "code",
   "execution_count": 10,
   "metadata": {},
   "outputs": [
    {
     "name": "stdout",
     "output_type": "stream",
     "text": [
      "(1, NumericRange(0, 10, '[)'), 3915, 4316)\n",
      "(2, NumericRange(10, 20, '[)'), 5505, 5428)\n",
      "(3, NumericRange(20, 30, '[)'), 30366, 25824)\n",
      "(4, NumericRange(30, 40, '[)'), 53306, 42775)\n",
      "(5, NumericRange(40, 50, '[)'), 39142, 33398)\n",
      "(6, NumericRange(50, 60, '[)'), 22043, 20798)\n",
      "(7, NumericRange(60, 70, '[)'), 13475, 11151)\n",
      "(8, NumericRange(70, 80, '[)'), 6667, 5793)\n",
      "(9, NumericRange(80, 89, '[)'), 3424, 2061)\n",
      "(10, NumericRange(89, 90, '[)'), 296, 103)\n"
     ]
    }
   ],
   "source": [
    "cur.execute(sql1)\n",
    "\n",
    "rows = cur.fetchall()\n",
    "    \n",
    "for row in rows:\n",
    "    print(row)"
   ]
  },
  {
   "cell_type": "code",
   "execution_count": 12,
   "metadata": {},
   "outputs": [],
   "source": [
    "cur.close()\n"
   ]
  }
 ],
 "metadata": {
  "kernelspec": {
   "display_name": "Python 3",
   "language": "python",
   "name": "python3"
  },
  "language_info": {
   "codemirror_mode": {
    "name": "ipython",
    "version": 3
   },
   "file_extension": ".py",
   "mimetype": "text/x-python",
   "name": "python",
   "nbconvert_exporter": "python",
   "pygments_lexer": "ipython3",
   "version": "3.7.7"
  }
 },
 "nbformat": 4,
 "nbformat_minor": 4
}
